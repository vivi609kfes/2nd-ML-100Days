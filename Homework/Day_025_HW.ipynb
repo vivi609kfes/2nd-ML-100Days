{
 "cells": [
  {
   "cell_type": "markdown",
   "metadata": {
    "collapsed": true
   },
   "source": [
    "# 範例 : 計程車費率預測\n",
    "https://www.kaggle.com/c/new-york-city-taxi-fare-prediction"
   ]
  },
  {
   "cell_type": "markdown",
   "metadata": {},
   "source": [
    "# [作業目標]\n",
    "- 試著模仿範例寫法, 使用程車費率預測競賽練習時間欄位處理"
   ]
  },
  {
   "cell_type": "markdown",
   "metadata": {},
   "source": [
    "# [作業重點]\n",
    "- 新增星期幾(day of week)與第幾周(week of year)這兩項特徵, 觀察有什麼影響 (In[4], Out[4], In[5], Out[5])\n",
    "- 新增加上年週期與周周期特徵 , 觀察有什麼影響 (In[8], Out[8], In[9], Out[9]) "
   ]
  },
  {
   "cell_type": "code",
   "execution_count": 1,
   "metadata": {},
   "outputs": [
    {
     "data": {
      "text/html": "<div>\n<style scoped>\n    .dataframe tbody tr th:only-of-type {\n        vertical-align: middle;\n    }\n\n    .dataframe tbody tr th {\n        vertical-align: top;\n    }\n\n    .dataframe thead th {\n        text-align: right;\n    }\n</style>\n<table border=\"1\" class=\"dataframe\">\n  <thead>\n    <tr style=\"text-align: right;\">\n      <th></th>\n      <th>pickup_datetime</th>\n      <th>pickup_longitude</th>\n      <th>pickup_latitude</th>\n      <th>dropoff_longitude</th>\n      <th>dropoff_latitude</th>\n      <th>passenger_count</th>\n    </tr>\n  </thead>\n  <tbody>\n    <tr>\n      <th>0</th>\n      <td>2011-10-21 23:54:10 UTC</td>\n      <td>-73.990580</td>\n      <td>40.761071</td>\n      <td>-73.981128</td>\n      <td>40.758634</td>\n      <td>2</td>\n    </tr>\n    <tr>\n      <th>1</th>\n      <td>2015-02-03 10:42:03 UTC</td>\n      <td>-73.988403</td>\n      <td>40.723431</td>\n      <td>-73.989647</td>\n      <td>40.741695</td>\n      <td>1</td>\n    </tr>\n    <tr>\n      <th>2</th>\n      <td>2014-03-16 18:58:58 UTC</td>\n      <td>-74.015785</td>\n      <td>40.715110</td>\n      <td>-74.012029</td>\n      <td>40.707888</td>\n      <td>2</td>\n    </tr>\n    <tr>\n      <th>3</th>\n      <td>2009-06-13 16:10:54 UTC</td>\n      <td>-73.977322</td>\n      <td>40.787275</td>\n      <td>-73.958030</td>\n      <td>40.778838</td>\n      <td>3</td>\n    </tr>\n    <tr>\n      <th>4</th>\n      <td>2014-06-12 03:25:56 UTC</td>\n      <td>-73.989683</td>\n      <td>40.729717</td>\n      <td>-73.982490</td>\n      <td>40.761887</td>\n      <td>3</td>\n    </tr>\n  </tbody>\n</table>\n</div>",
      "text/plain": "           pickup_datetime  pickup_longitude  pickup_latitude  \\\n0  2011-10-21 23:54:10 UTC        -73.990580        40.761071   \n1  2015-02-03 10:42:03 UTC        -73.988403        40.723431   \n2  2014-03-16 18:58:58 UTC        -74.015785        40.715110   \n3  2009-06-13 16:10:54 UTC        -73.977322        40.787275   \n4  2014-06-12 03:25:56 UTC        -73.989683        40.729717   \n\n   dropoff_longitude  dropoff_latitude  passenger_count  \n0         -73.981128         40.758634                2  \n1         -73.989647         40.741695                1  \n2         -74.012029         40.707888                2  \n3         -73.958030         40.778838                3  \n4         -73.982490         40.761887                3  "
     },
     "execution_count": 1,
     "metadata": {},
     "output_type": "execute_result"
    }
   ],
   "source": [
    "# 做完特徵工程前的所有準備\n",
    "import pandas as pd\n",
    "import numpy as np\n",
    "import datetime\n",
    "from sklearn.preprocessing import MinMaxScaler\n",
    "from sklearn.model_selection import cross_val_score\n",
    "from sklearn.linear_model import LinearRegression\n",
    "from sklearn.ensemble import GradientBoostingRegressor\n",
    "\n",
    "data_path = 'data/'\n",
    "df = pd.read_csv(data_path + 'taxi_data1.csv')\n",
    "\n",
    "train_Y = df['fare_amount']\n",
    "df = df.drop(['fare_amount'] , axis=1)\n",
    "df.head()"
   ]
  },
  {
   "cell_type": "code",
   "execution_count": 2,
   "metadata": {},
   "outputs": [
    {
     "data": {
      "text/html": "<div>\n<style scoped>\n    .dataframe tbody tr th:only-of-type {\n        vertical-align: middle;\n    }\n\n    .dataframe tbody tr th {\n        vertical-align: top;\n    }\n\n    .dataframe thead th {\n        text-align: right;\n    }\n</style>\n<table border=\"1\" class=\"dataframe\">\n  <thead>\n    <tr style=\"text-align: right;\">\n      <th></th>\n      <th>pickup_datetime</th>\n      <th>pickup_longitude</th>\n      <th>pickup_latitude</th>\n      <th>dropoff_longitude</th>\n      <th>dropoff_latitude</th>\n      <th>passenger_count</th>\n      <th>pickup_year</th>\n      <th>pickup_month</th>\n      <th>pickup_day</th>\n      <th>pickup_hour</th>\n      <th>pickup_minute</th>\n      <th>pickup_second</th>\n    </tr>\n  </thead>\n  <tbody>\n    <tr>\n      <th>0</th>\n      <td>2011-10-21 23:54:10</td>\n      <td>-73.990580</td>\n      <td>40.761071</td>\n      <td>-73.981128</td>\n      <td>40.758634</td>\n      <td>2</td>\n      <td>2011</td>\n      <td>10</td>\n      <td>21</td>\n      <td>23</td>\n      <td>54</td>\n      <td>10</td>\n    </tr>\n    <tr>\n      <th>1</th>\n      <td>2015-02-03 10:42:03</td>\n      <td>-73.988403</td>\n      <td>40.723431</td>\n      <td>-73.989647</td>\n      <td>40.741695</td>\n      <td>1</td>\n      <td>2015</td>\n      <td>2</td>\n      <td>3</td>\n      <td>10</td>\n      <td>42</td>\n      <td>3</td>\n    </tr>\n    <tr>\n      <th>2</th>\n      <td>2014-03-16 18:58:58</td>\n      <td>-74.015785</td>\n      <td>40.715110</td>\n      <td>-74.012029</td>\n      <td>40.707888</td>\n      <td>2</td>\n      <td>2014</td>\n      <td>3</td>\n      <td>16</td>\n      <td>18</td>\n      <td>58</td>\n      <td>58</td>\n    </tr>\n    <tr>\n      <th>3</th>\n      <td>2009-06-13 16:10:54</td>\n      <td>-73.977322</td>\n      <td>40.787275</td>\n      <td>-73.958030</td>\n      <td>40.778838</td>\n      <td>3</td>\n      <td>2009</td>\n      <td>6</td>\n      <td>13</td>\n      <td>16</td>\n      <td>10</td>\n      <td>54</td>\n    </tr>\n    <tr>\n      <th>4</th>\n      <td>2014-06-12 03:25:56</td>\n      <td>-73.989683</td>\n      <td>40.729717</td>\n      <td>-73.982490</td>\n      <td>40.761887</td>\n      <td>3</td>\n      <td>2014</td>\n      <td>6</td>\n      <td>12</td>\n      <td>3</td>\n      <td>25</td>\n      <td>56</td>\n    </tr>\n  </tbody>\n</table>\n</div>",
      "text/plain": "      pickup_datetime  pickup_longitude  pickup_latitude  dropoff_longitude  \\\n0 2011-10-21 23:54:10        -73.990580        40.761071         -73.981128   \n1 2015-02-03 10:42:03        -73.988403        40.723431         -73.989647   \n2 2014-03-16 18:58:58        -74.015785        40.715110         -74.012029   \n3 2009-06-13 16:10:54        -73.977322        40.787275         -73.958030   \n4 2014-06-12 03:25:56        -73.989683        40.729717         -73.982490   \n\n   dropoff_latitude  passenger_count  pickup_year  pickup_month  pickup_day  \\\n0         40.758634                2         2011            10          21   \n1         40.741695                1         2015             2           3   \n2         40.707888                2         2014             3          16   \n3         40.778838                3         2009             6          13   \n4         40.761887                3         2014             6          12   \n\n   pickup_hour  pickup_minute  pickup_second  \n0           23             54             10  \n1           10             42              3  \n2           18             58             58  \n3           16             10             54  \n4            3             25             56  "
     },
     "execution_count": 2,
     "metadata": {},
     "output_type": "execute_result"
    }
   ],
   "source": [
    "# 時間特徵分解方式:使用datetime\n",
    "df['pickup_datetime'] = df['pickup_datetime'].apply(lambda x: datetime.datetime.strptime(x, '%Y-%m-%d %H:%M:%S UTC'))\n",
    "df['pickup_year'] = df['pickup_datetime'].apply(lambda x: datetime.datetime.strftime(x, '%Y')).astype('int64')\n",
    "df['pickup_month'] = df['pickup_datetime'].apply(lambda x: datetime.datetime.strftime(x, '%m')).astype('int64')\n",
    "df['pickup_day'] = df['pickup_datetime'].apply(lambda x: datetime.datetime.strftime(x, '%d')).astype('int64')\n",
    "df['pickup_hour'] = df['pickup_datetime'].apply(lambda x: datetime.datetime.strftime(x, '%H')).astype('int64')\n",
    "df['pickup_minute'] = df['pickup_datetime'].apply(lambda x: datetime.datetime.strftime(x, '%M')).astype('int64')\n",
    "df['pickup_second'] = df['pickup_datetime'].apply(lambda x: datetime.datetime.strftime(x, '%S')).astype('int64')\n",
    "df.head()"
   ]
  },
  {
   "cell_type": "code",
   "execution_count": 3,
   "metadata": {},
   "outputs": [
    {
     "name": "stdout",
     "output_type": "stream",
     "text": "Linear Reg Score : 0.026876871475640173\nGradient Boosting Reg Score : 0.7111954419253959\n"
    }
   ],
   "source": [
    "# 將結果使用線性迴歸 / 梯度提升樹分別看結果\n",
    "df_temp = df.drop(['pickup_datetime'] , axis=1)\n",
    "scaler = MinMaxScaler()\n",
    "train_X = scaler.fit_transform(df_temp)\n",
    "Linear = LinearRegression()\n",
    "print(f'Linear Reg Score : {cross_val_score(Linear, train_X, train_Y, cv=5).mean()}')\n",
    "GDBT = GradientBoostingRegressor()\n",
    "print(f'Gradient Boosting Reg Score : {cross_val_score(GDBT, train_X, train_Y, cv=5).mean()}')"
   ]
  },
  {
   "cell_type": "markdown",
   "metadata": {
    "collapsed": true
   },
   "source": [
    "# 作業1\n",
    "* 對照範例，試著加入星期幾 (day of week) 與第幾周 (week of year) 這兩項特徵，  \n",
    "看看結果會比原本只有時間特徵分解的結果更好或更差?"
   ]
  },
  {
   "cell_type": "code",
   "execution_count": 12,
   "metadata": {},
   "outputs": [
    {
     "data": {
      "text/html": "<div>\n<style scoped>\n    .dataframe tbody tr th:only-of-type {\n        vertical-align: middle;\n    }\n\n    .dataframe tbody tr th {\n        vertical-align: top;\n    }\n\n    .dataframe thead th {\n        text-align: right;\n    }\n</style>\n<table border=\"1\" class=\"dataframe\">\n  <thead>\n    <tr style=\"text-align: right;\">\n      <th></th>\n      <th>pickup_datetime</th>\n      <th>pickup_longitude</th>\n      <th>pickup_latitude</th>\n      <th>dropoff_longitude</th>\n      <th>dropoff_latitude</th>\n      <th>passenger_count</th>\n      <th>pickup_year</th>\n      <th>pickup_month</th>\n      <th>pickup_day</th>\n      <th>pickup_hour</th>\n      <th>pickup_minute</th>\n      <th>pickup_second</th>\n      <th>day_cycle</th>\n      <th>weekend_day</th>\n      <th>weekend_of_year</th>\n    </tr>\n  </thead>\n  <tbody>\n    <tr>\n      <th>0</th>\n      <td>2011-10-21 23:54:10</td>\n      <td>-73.990580</td>\n      <td>40.761071</td>\n      <td>-73.981128</td>\n      <td>40.758634</td>\n      <td>2</td>\n      <td>2011</td>\n      <td>10</td>\n      <td>21</td>\n      <td>23</td>\n      <td>54</td>\n      <td>10</td>\n      <td>-0.025450</td>\n      <td>5</td>\n      <td>42</td>\n    </tr>\n    <tr>\n      <th>1</th>\n      <td>2015-02-03 10:42:03</td>\n      <td>-73.988403</td>\n      <td>40.723431</td>\n      <td>-73.989647</td>\n      <td>40.741695</td>\n      <td>1</td>\n      <td>2015</td>\n      <td>2</td>\n      <td>3</td>\n      <td>10</td>\n      <td>42</td>\n      <td>3</td>\n      <td>0.333601</td>\n      <td>2</td>\n      <td>5</td>\n    </tr>\n    <tr>\n      <th>2</th>\n      <td>2014-03-16 18:58:58</td>\n      <td>-74.015785</td>\n      <td>40.715110</td>\n      <td>-74.012029</td>\n      <td>40.707888</td>\n      <td>2</td>\n      <td>2014</td>\n      <td>3</td>\n      <td>16</td>\n      <td>18</td>\n      <td>58</td>\n      <td>58</td>\n      <td>-0.967083</td>\n      <td>0</td>\n      <td>11</td>\n    </tr>\n    <tr>\n      <th>3</th>\n      <td>2009-06-13 16:10:54</td>\n      <td>-73.977322</td>\n      <td>40.787275</td>\n      <td>-73.958030</td>\n      <td>40.778838</td>\n      <td>3</td>\n      <td>2009</td>\n      <td>6</td>\n      <td>13</td>\n      <td>16</td>\n      <td>10</td>\n      <td>54</td>\n      <td>-0.888817</td>\n      <td>6</td>\n      <td>23</td>\n    </tr>\n    <tr>\n      <th>4</th>\n      <td>2014-06-12 03:25:56</td>\n      <td>-73.989683</td>\n      <td>40.729717</td>\n      <td>-73.982490</td>\n      <td>40.761887</td>\n      <td>3</td>\n      <td>2014</td>\n      <td>6</td>\n      <td>12</td>\n      <td>3</td>\n      <td>25</td>\n      <td>56</td>\n      <td>0.782427</td>\n      <td>4</td>\n      <td>23</td>\n    </tr>\n  </tbody>\n</table>\n</div>",
      "text/plain": "      pickup_datetime  pickup_longitude  pickup_latitude  dropoff_longitude  \\\n0 2011-10-21 23:54:10        -73.990580        40.761071         -73.981128   \n1 2015-02-03 10:42:03        -73.988403        40.723431         -73.989647   \n2 2014-03-16 18:58:58        -74.015785        40.715110         -74.012029   \n3 2009-06-13 16:10:54        -73.977322        40.787275         -73.958030   \n4 2014-06-12 03:25:56        -73.989683        40.729717         -73.982490   \n\n   dropoff_latitude  passenger_count  pickup_year  pickup_month  pickup_day  \\\n0         40.758634                2         2011            10          21   \n1         40.741695                1         2015             2           3   \n2         40.707888                2         2014             3          16   \n3         40.778838                3         2009             6          13   \n4         40.761887                3         2014             6          12   \n\n   pickup_hour  pickup_minute  pickup_second  day_cycle  weekend_day  \\\n0           23             54             10  -0.025450            5   \n1           10             42              3   0.333601            2   \n2           18             58             58  -0.967083            0   \n3           16             10             54  -0.888817            6   \n4            3             25             56   0.782427            4   \n\n   weekend_of_year  \n0               42  \n1                5  \n2               11  \n3               23  \n4               23  "
     },
     "execution_count": 12,
     "metadata": {},
     "output_type": "execute_result"
    }
   ],
   "source": [
    "# 加入星期幾與第幾周兩個特徵\n",
    "\"\"\"\n",
    "Your Code Here\n",
    "\"\"\"\n",
    "\n",
    "df['weekend_day'] = df['pickup_datetime'].apply(lambda x: datetime.datetime.strftime(x, '%w')).astype('int64')\n",
    "df['weekend_of_year'] = df['pickup_datetime'].apply(lambda x: datetime.datetime.strftime(x, '%U')).astype('int64')\n",
    "\n",
    "df.head()"
   ]
  },
  {
   "cell_type": "code",
   "execution_count": 13,
   "metadata": {},
   "outputs": [
    {
     "name": "stdout",
     "output_type": "stream",
     "text": "Linear Reg Score : 0.028234094061818916\nGradient Boosting Reg Score : 0.7120403541146988\n"
    }
   ],
   "source": [
    "# 將結果使用線性迴歸 / 梯度提升樹分別看結果\n",
    "df_temp = df.drop(['pickup_datetime'] , axis=1)\n",
    "train_X = scaler.fit_transform(df_temp)\n",
    "print(f'Linear Reg Score : {cross_val_score(Linear, train_X, train_Y, cv=5).mean()}')\n",
    "print(f'Gradient Boosting Reg Score : {cross_val_score(GDBT, train_X, train_Y, cv=5).mean()}')"
   ]
  },
  {
   "cell_type": "code",
   "execution_count": 14,
   "metadata": {},
   "outputs": [
    {
     "data": {
      "text/html": "<div>\n<style scoped>\n    .dataframe tbody tr th:only-of-type {\n        vertical-align: middle;\n    }\n\n    .dataframe tbody tr th {\n        vertical-align: top;\n    }\n\n    .dataframe thead th {\n        text-align: right;\n    }\n</style>\n<table border=\"1\" class=\"dataframe\">\n  <thead>\n    <tr style=\"text-align: right;\">\n      <th></th>\n      <th>pickup_datetime</th>\n      <th>pickup_longitude</th>\n      <th>pickup_latitude</th>\n      <th>dropoff_longitude</th>\n      <th>dropoff_latitude</th>\n      <th>passenger_count</th>\n      <th>pickup_year</th>\n      <th>pickup_month</th>\n      <th>pickup_day</th>\n      <th>pickup_hour</th>\n      <th>pickup_minute</th>\n      <th>pickup_second</th>\n      <th>day_cycle</th>\n      <th>weekend_day</th>\n      <th>weekend_of_year</th>\n    </tr>\n  </thead>\n  <tbody>\n    <tr>\n      <th>0</th>\n      <td>2011-10-21 23:54:10</td>\n      <td>-73.990580</td>\n      <td>40.761071</td>\n      <td>-73.981128</td>\n      <td>40.758634</td>\n      <td>2</td>\n      <td>2011</td>\n      <td>10</td>\n      <td>21</td>\n      <td>23</td>\n      <td>54</td>\n      <td>10</td>\n      <td>-0.025450</td>\n      <td>5</td>\n      <td>42</td>\n    </tr>\n    <tr>\n      <th>1</th>\n      <td>2015-02-03 10:42:03</td>\n      <td>-73.988403</td>\n      <td>40.723431</td>\n      <td>-73.989647</td>\n      <td>40.741695</td>\n      <td>1</td>\n      <td>2015</td>\n      <td>2</td>\n      <td>3</td>\n      <td>10</td>\n      <td>42</td>\n      <td>3</td>\n      <td>0.333601</td>\n      <td>2</td>\n      <td>5</td>\n    </tr>\n    <tr>\n      <th>2</th>\n      <td>2014-03-16 18:58:58</td>\n      <td>-74.015785</td>\n      <td>40.715110</td>\n      <td>-74.012029</td>\n      <td>40.707888</td>\n      <td>2</td>\n      <td>2014</td>\n      <td>3</td>\n      <td>16</td>\n      <td>18</td>\n      <td>58</td>\n      <td>58</td>\n      <td>-0.967083</td>\n      <td>0</td>\n      <td>11</td>\n    </tr>\n    <tr>\n      <th>3</th>\n      <td>2009-06-13 16:10:54</td>\n      <td>-73.977322</td>\n      <td>40.787275</td>\n      <td>-73.958030</td>\n      <td>40.778838</td>\n      <td>3</td>\n      <td>2009</td>\n      <td>6</td>\n      <td>13</td>\n      <td>16</td>\n      <td>10</td>\n      <td>54</td>\n      <td>-0.888817</td>\n      <td>6</td>\n      <td>23</td>\n    </tr>\n    <tr>\n      <th>4</th>\n      <td>2014-06-12 03:25:56</td>\n      <td>-73.989683</td>\n      <td>40.729717</td>\n      <td>-73.982490</td>\n      <td>40.761887</td>\n      <td>3</td>\n      <td>2014</td>\n      <td>6</td>\n      <td>12</td>\n      <td>3</td>\n      <td>25</td>\n      <td>56</td>\n      <td>0.782427</td>\n      <td>4</td>\n      <td>23</td>\n    </tr>\n  </tbody>\n</table>\n</div>",
      "text/plain": "      pickup_datetime  pickup_longitude  pickup_latitude  dropoff_longitude  \\\n0 2011-10-21 23:54:10        -73.990580        40.761071         -73.981128   \n1 2015-02-03 10:42:03        -73.988403        40.723431         -73.989647   \n2 2014-03-16 18:58:58        -74.015785        40.715110         -74.012029   \n3 2009-06-13 16:10:54        -73.977322        40.787275         -73.958030   \n4 2014-06-12 03:25:56        -73.989683        40.729717         -73.982490   \n\n   dropoff_latitude  passenger_count  pickup_year  pickup_month  pickup_day  \\\n0         40.758634                2         2011            10          21   \n1         40.741695                1         2015             2           3   \n2         40.707888                2         2014             3          16   \n3         40.778838                3         2009             6          13   \n4         40.761887                3         2014             6          12   \n\n   pickup_hour  pickup_minute  pickup_second  day_cycle  weekend_day  \\\n0           23             54             10  -0.025450            5   \n1           10             42              3   0.333601            2   \n2           18             58             58  -0.967083            0   \n3           16             10             54  -0.888817            6   \n4            3             25             56   0.782427            4   \n\n   weekend_of_year  \n0               42  \n1                5  \n2               11  \n3               23  \n4               23  "
     },
     "execution_count": 14,
     "metadata": {},
     "output_type": "execute_result"
    }
   ],
   "source": [
    "# 加上\"日週期\"特徵 (參考講義\"週期循環特徵\")\n",
    "import math\n",
    "df['day_cycle'] = df['pickup_hour']/12 + df['pickup_minute']/720 + df['pickup_second']/43200\n",
    "df['day_cycle'] = df['day_cycle'].map(lambda x:math.sin(x*math.pi))\n",
    "df.head()"
   ]
  },
  {
   "cell_type": "code",
   "execution_count": 15,
   "metadata": {},
   "outputs": [
    {
     "name": "stdout",
     "output_type": "stream",
     "text": "Linear Reg Score : 0.028234094061818916\nGradient Boosting Reg Score : 0.7115060626291677\n"
    }
   ],
   "source": [
    "# 將結果使用線性迴歸 / 梯度提升樹分別看結果\n",
    "df_temp = df.drop(['pickup_datetime'] , axis=1)\n",
    "train_X = scaler.fit_transform(df_temp)\n",
    "print(f'Linear Reg Score : {cross_val_score(Linear, train_X, train_Y, cv=5).mean()}')\n",
    "print(f'Gradient Boosting Reg Score : {cross_val_score(GDBT, train_X, train_Y, cv=5).mean()}')"
   ]
  },
  {
   "cell_type": "markdown",
   "metadata": {
    "collapsed": true
   },
   "source": [
    "# 作業2\n",
    "* 對照範例的日週期效果，試著參考投影片完成年週期與周週期的特徵 (也可以用你自己想到的方式)，  \n",
    "看看結果會比範例中的結果更好或更差?\n",
    "\n",
    "ANS:  \n",
    "線性回歸的結果變好   \n",
    "梯度提升樹反而變差"
   ]
  },
  {
   "cell_type": "code",
   "execution_count": 16,
   "metadata": {},
   "outputs": [
    {
     "data": {
      "text/html": "<div>\n<style scoped>\n    .dataframe tbody tr th:only-of-type {\n        vertical-align: middle;\n    }\n\n    .dataframe tbody tr th {\n        vertical-align: top;\n    }\n\n    .dataframe thead th {\n        text-align: right;\n    }\n</style>\n<table border=\"1\" class=\"dataframe\">\n  <thead>\n    <tr style=\"text-align: right;\">\n      <th></th>\n      <th>pickup_datetime</th>\n      <th>pickup_longitude</th>\n      <th>pickup_latitude</th>\n      <th>dropoff_longitude</th>\n      <th>dropoff_latitude</th>\n      <th>passenger_count</th>\n      <th>pickup_year</th>\n      <th>pickup_month</th>\n      <th>pickup_day</th>\n      <th>pickup_hour</th>\n      <th>pickup_minute</th>\n      <th>pickup_second</th>\n      <th>day_cycle</th>\n      <th>weekend_day</th>\n      <th>weekend_of_year</th>\n      <th>year_cycle</th>\n    </tr>\n  </thead>\n  <tbody>\n    <tr>\n      <th>0</th>\n      <td>2011-10-21 23:54:10</td>\n      <td>-73.990580</td>\n      <td>40.761071</td>\n      <td>-73.981128</td>\n      <td>40.758634</td>\n      <td>2</td>\n      <td>2011</td>\n      <td>10</td>\n      <td>21</td>\n      <td>23</td>\n      <td>54</td>\n      <td>10</td>\n      <td>-0.025450</td>\n      <td>5</td>\n      <td>42</td>\n      <td>-0.804598</td>\n    </tr>\n    <tr>\n      <th>1</th>\n      <td>2015-02-03 10:42:03</td>\n      <td>-73.988403</td>\n      <td>40.723431</td>\n      <td>-73.989647</td>\n      <td>40.741695</td>\n      <td>1</td>\n      <td>2015</td>\n      <td>2</td>\n      <td>3</td>\n      <td>10</td>\n      <td>42</td>\n      <td>3</td>\n      <td>0.333601</td>\n      <td>2</td>\n      <td>5</td>\n      <td>0.826239</td>\n    </tr>\n    <tr>\n      <th>2</th>\n      <td>2014-03-16 18:58:58</td>\n      <td>-74.015785</td>\n      <td>40.715110</td>\n      <td>-74.012029</td>\n      <td>40.707888</td>\n      <td>2</td>\n      <td>2014</td>\n      <td>3</td>\n      <td>16</td>\n      <td>18</td>\n      <td>58</td>\n      <td>58</td>\n      <td>-0.967083</td>\n      <td>0</td>\n      <td>11</td>\n      <td>0.623490</td>\n    </tr>\n    <tr>\n      <th>3</th>\n      <td>2009-06-13 16:10:54</td>\n      <td>-73.977322</td>\n      <td>40.787275</td>\n      <td>-73.958030</td>\n      <td>40.778838</td>\n      <td>3</td>\n      <td>2009</td>\n      <td>6</td>\n      <td>13</td>\n      <td>16</td>\n      <td>10</td>\n      <td>54</td>\n      <td>-0.888817</td>\n      <td>6</td>\n      <td>23</td>\n      <td>-0.294755</td>\n    </tr>\n    <tr>\n      <th>4</th>\n      <td>2014-06-12 03:25:56</td>\n      <td>-73.989683</td>\n      <td>40.729717</td>\n      <td>-73.982490</td>\n      <td>40.761887</td>\n      <td>3</td>\n      <td>2014</td>\n      <td>6</td>\n      <td>12</td>\n      <td>3</td>\n      <td>25</td>\n      <td>56</td>\n      <td>0.782427</td>\n      <td>4</td>\n      <td>23</td>\n      <td>-0.532032</td>\n    </tr>\n  </tbody>\n</table>\n</div>",
      "text/plain": "      pickup_datetime  pickup_longitude  pickup_latitude  dropoff_longitude  \\\n0 2011-10-21 23:54:10        -73.990580        40.761071         -73.981128   \n1 2015-02-03 10:42:03        -73.988403        40.723431         -73.989647   \n2 2014-03-16 18:58:58        -74.015785        40.715110         -74.012029   \n3 2009-06-13 16:10:54        -73.977322        40.787275         -73.958030   \n4 2014-06-12 03:25:56        -73.989683        40.729717         -73.982490   \n\n   dropoff_latitude  passenger_count  pickup_year  pickup_month  pickup_day  \\\n0         40.758634                2         2011            10          21   \n1         40.741695                1         2015             2           3   \n2         40.707888                2         2014             3          16   \n3         40.778838                3         2009             6          13   \n4         40.761887                3         2014             6          12   \n\n   pickup_hour  pickup_minute  pickup_second  day_cycle  weekend_day  \\\n0           23             54             10  -0.025450            5   \n1           10             42              3   0.333601            2   \n2           18             58             58  -0.967083            0   \n3           16             10             54  -0.888817            6   \n4            3             25             56   0.782427            4   \n\n   weekend_of_year  year_cycle  \n0               42   -0.804598  \n1                5    0.826239  \n2               11    0.623490  \n3               23   -0.294755  \n4               23   -0.532032  "
     },
     "execution_count": 16,
     "metadata": {},
     "output_type": "execute_result"
    }
   ],
   "source": [
    "# 加上\"年週期\"與\"月週期\"特徵\n",
    "\"\"\"\n",
    "Your Code Here\n",
    "\"\"\"\n",
    "# 把半年連起來，然後變成一個CYCLE\n",
    "import math\n",
    "df['year_cycle'] = df['pickup_hour']/84 + df['weekend_day']/3.5\n",
    "df['year_cycle'] = df['year_cycle'].map(lambda x:math.sin(x*math.pi))\n",
    "df.head()"
   ]
  },
  {
   "cell_type": "code",
   "execution_count": 17,
   "metadata": {},
   "outputs": [
    {
     "name": "stdout",
     "output_type": "stream",
     "text": "Linear Reg Score : 0.028988281743758625\nGradient Boosting Reg Score : 0.7098321943397592\n"
    }
   ],
   "source": [
    "# 將結果使用線性迴歸 / 梯度提升樹分別看結果\n",
    "df_temp = df.drop(['pickup_datetime'] , axis=1)\n",
    "train_X = scaler.fit_transform(df_temp)\n",
    "print(f'Linear Reg Score : {cross_val_score(Linear, train_X, train_Y, cv=5).mean()}')\n",
    "print(f'Gradient Boosting Reg Score : {cross_val_score(GDBT, train_X, train_Y, cv=5).mean()}')"
   ]
  },
  {
   "cell_type": "code",
   "execution_count": null,
   "metadata": {
    "collapsed": true
   },
   "outputs": [],
   "source": []
  }
 ],
 "metadata": {
  "kernelspec": {
   "display_name": "Python 3",
   "language": "python",
   "name": "python3"
  },
  "language_info": {
   "codemirror_mode": {
    "name": "ipython",
    "version": 3
   },
   "file_extension": ".py",
   "mimetype": "text/x-python",
   "name": "python",
   "nbconvert_exporter": "python",
   "pygments_lexer": "ipython3",
   "version": "3.6.8"
  }
 },
 "nbformat": 4,
 "nbformat_minor": 2
}