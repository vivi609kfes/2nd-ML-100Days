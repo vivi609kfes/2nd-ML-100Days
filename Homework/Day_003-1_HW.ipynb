{
 "cells": [
  {
   "cell_type": "markdown",
   "metadata": {},
   "source": [
    "## 練習時間\n",
    "在小量的資料上，我們用眼睛就可以看得出來程式碼是否有跑出我們理想中的結果\n",
    "\n",
    "請嘗試想像一個你需要的資料結構 (裡面的值可以是隨機的)，然後用上述的方法把它變成 pandas DataFrame\n",
    "\n",
    "#### Ex: 想像一個 dataframe 有兩個欄位，一個是國家，一個是人口，求人口數最多的國家\n",
    "\n",
    "### Hints: [隨機產生數值](https://blog.csdn.net/christianashannon/article/details/78867204)"
   ]
  },
  {
   "cell_type": "code",
   "execution_count": 1,
   "metadata": {},
   "outputs": [],
   "source": [
    "import pandas as pd\n",
    "import numpy as np\n",
    "import random"
   ]
  },
  {
   "cell_type": "code",
   "execution_count": 2,
   "metadata": {},
   "outputs": [],
   "source": [
    "Population = np.random.randint(0,high = 200,size=(10))\n",
    "Country = [\"US\",\"UK\",\"Canada\",\"Japan\",\"Germany\",\"Taiwan\",\"India\",\"Korea\",\"France\",\"Iceland\"]\n",
    "\n",
    "list_labels = ['Country', 'Population']\n",
    "list_cols = [Country, Population]\n",
    "\n",
    "CP = list(zip(list_labels, list_cols))"
   ]
  },
  {
   "cell_type": "code",
   "execution_count": 3,
   "metadata": {},
   "outputs": [
    {
     "name": "stdout",
     "output_type": "stream",
     "text": [
      "   Country  Population\n",
      "0       US          16\n",
      "1       UK          88\n",
      "2   Canada         151\n",
      "3    Japan         138\n",
      "4  Germany         109\n",
      "5   Taiwan           1\n",
      "6    India          93\n",
      "7    Korea          48\n",
      "8   France         194\n",
      "9  Iceland          19\n"
     ]
    }
   ],
   "source": [
    "df_CP = pd.DataFrame(dict(CP))\n",
    "print(df_CP)"
   ]
  },
  {
   "cell_type": "code",
   "execution_count": 4,
   "metadata": {},
   "outputs": [
    {
     "name": "stdout",
     "output_type": "stream",
     "text": [
      "最多人口數的國家:\n",
      "Country       France\n",
      "Population       194\n",
      "Name: 8, dtype: object\n"
     ]
    }
   ],
   "source": [
    "location = df_CP[\"Population\"].idxmax()\n",
    "##print(location)\n",
    "M_C = df_CP[[\"Country\"]]\n",
    "\n",
    "##print(M_C)\n",
    "print(\"最多人口數的國家:\")\n",
    "print(df_CP.iloc[location])\n"
   ]
  }
 ],
 "metadata": {
  "kernelspec": {
   "display_name": "Python 3",
   "language": "python",
   "name": "python3"
  },
  "language_info": {
   "codemirror_mode": {
    "name": "ipython",
    "version": 3
   },
   "file_extension": ".py",
   "mimetype": "text/x-python",
   "name": "python",
   "nbconvert_exporter": "python",
   "pygments_lexer": "ipython3",
   "version": "3.7.3"
  }
 },
 "nbformat": 4,
 "nbformat_minor": 2
}
